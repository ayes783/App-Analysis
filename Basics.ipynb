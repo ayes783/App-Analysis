{
 "cells": [
  {
   "cell_type": "markdown",
   "metadata": {},
   "source": [
    "# Profitable App Profiles for the App Store\n",
    "This project is to use data analysis techniques in Python to determine the most profitable app for my hypothetical company.\n",
    "Determining which types of apps have the largest ad engagement will help in making this decision."
   ]
  },
  {
   "cell_type": "code",
   "execution_count": 1,
   "metadata": {},
   "outputs": [],
   "source": [
    "from csv import reader\n",
    "\n",
    "### The Google Play data set ###\n",
    "opened_file = open('googleplaystore.csv')\n",
    "read_file = reader(opened_file)\n",
    "android = list(read_file)\n",
    "android_header = android[0]\n",
    "android = android[1:]\n",
    "\n",
    "\n",
    "### The App Store data set ###\n",
    "opened_file = open('AppleStore.csv')\n",
    "read_file = reader(opened_file)\n",
    "ios = list(read_file)\n",
    "ios_header = ios[0]\n",
    "ios = ios[1:]\n"
   ]
  },
  {
   "cell_type": "code",
   "execution_count": 2,
   "metadata": {},
   "outputs": [],
   "source": [
    "def explore_data(dataset, start, end, rows_and_columns=False):\n",
    "    dataset_slice = dataset[start:end]    \n",
    "    for row in dataset_slice:\n",
    "        print(row)\n",
    "        print('\\n') # adds a new (empty) line after each row\n",
    "\n",
    "    if rows_and_columns:\n",
    "        print('Number of rows:', len(dataset))\n",
    "        print('Number of columns:', len(dataset[0]))\n"
   ]
  },
  {
   "cell_type": "markdown",
   "metadata": {},
   "source": [
    "Columns below to keep track of column indexes for this analysis:\n",
    "\n",
    "_Android_\n",
    "__('App', 'Category', 'Rating', 'Reviews', 'Size', 'Installs', 'Type', 'Price', 'Content Rating', 'Genres', 'Last Updated', 'Current Ver', 'Android Ver')__\n",
    "\n",
    "_iOS_\n",
    "__('id', 'track_name', 'size_bytes', 'currency', 'price', 'rating_count_tot', 'rating_count_ver', 'user_rating', 'user_rating_ver', 'ver', 'cont_rating', 'prime_genre', 'sup_devices.num', 'ipadSc_urls.num', 'lang.num', 'vpp_lic')__\n",
    "\n",
    "\n",
    "Link to the dataset documentation:\n",
    "\n",
    "[Android](https://www.kaggle.com/lava18/google-play-store-apps)\n",
    "[iOS](https://www.kaggle.com/ramamet4/app-store-apple-data-set-10k-apps)\n",
    "\n",
    "\n",
    "\n",
    "\n"
   ]
  },
  {
   "cell_type": "code",
   "execution_count": 3,
   "metadata": {},
   "outputs": [
    {
     "name": "stdout",
     "output_type": "stream",
     "text": [
      "['Life Made WI-Fi Touchscreen Photo Frame', '1.9', '19', '3.0M', '1,000+', 'Free', '0', 'Everyone', '', 'February 11, 2018', '1.0.19', '4.0 and up']\n",
      "\n",
      "\n",
      "Number of rows: 10841\n",
      "Number of columns: 13\n"
     ]
    }
   ],
   "source": [
    "explore_data(android,10472,10473,True)\n",
    "\n"
   ]
  },
  {
   "cell_type": "markdown",
   "metadata": {},
   "source": [
    "Clean any missing data in the rows for the data sets.\\\n",
    "Using an if statement to match the length of header to each row, code identified any rows that did not match.\\\n",
    "Bad row in 10472 from the Google play store discussion thread, and then deleted."
   ]
  },
  {
   "cell_type": "code",
   "execution_count": 4,
   "metadata": {},
   "outputs": [
    {
     "name": "stdout",
     "output_type": "stream",
     "text": [
      "['Life Made WI-Fi Touchscreen Photo Frame', '1.9', '19', '3.0M', '1,000+', 'Free', '0', 'Everyone', '', 'February 11, 2018', '1.0.19', '4.0 and up']\n",
      "10472\n",
      "DONE Checking for matching rows in Android Data\n",
      "DONE Checking for matching rows in iOS Data\n"
     ]
    }
   ],
   "source": [
    "for row in android:\n",
    "    if len(row) != len(android_header):\n",
    "        print(row)\n",
    "        print(android.index(row))\n",
    "print('DONE Checking for matching rows in Android Data')\n",
    "\n",
    "for row in ios:\n",
    "    if len(row) != len(ios_header):\n",
    "        print(row)\n",
    "        print(ios.index(row))\n",
    "print('DONE Checking for matching rows in iOS Data')\n",
    "\n",
    "del android[10472]"
   ]
  },
  {
   "cell_type": "markdown",
   "metadata": {},
   "source": [
    "Another step in cleaning the dataset is to **remove any duplicate rows** for the same app.  More reviews are recorded and the data set appends the duplicate app row.\\\n",
    "For example using Instagram as the app with duplicate rows, we can see there are duplicates.\n"
   ]
  },
  {
   "cell_type": "code",
   "execution_count": 5,
   "metadata": {},
   "outputs": [
    {
     "name": "stdout",
     "output_type": "stream",
     "text": [
      "['Instagram', 'SOCIAL', '4.5', '66577313', 'Varies with device', '1,000,000,000+', 'Free', '0', 'Teen', 'Social', 'July 31, 2018', 'Varies with device', 'Varies with device']\n",
      "['Instagram', 'SOCIAL', '4.5', '66577446', 'Varies with device', '1,000,000,000+', 'Free', '0', 'Teen', 'Social', 'July 31, 2018', 'Varies with device', 'Varies with device']\n",
      "['Instagram', 'SOCIAL', '4.5', '66577313', 'Varies with device', '1,000,000,000+', 'Free', '0', 'Teen', 'Social', 'July 31, 2018', 'Varies with device', 'Varies with device']\n",
      "['Instagram', 'SOCIAL', '4.5', '66509917', 'Varies with device', '1,000,000,000+', 'Free', '0', 'Teen', 'Social', 'July 31, 2018', 'Varies with device', 'Varies with device']\n"
     ]
    }
   ],
   "source": [
    "for row in android:\n",
    "    name = row[0]\n",
    "    if name == \"Instagram\":\n",
    "        print(row)\n",
    "    "
   ]
  },
  {
   "cell_type": "markdown",
   "metadata": {},
   "source": [
    "To keep track of the duplicate app entries, we should create a list of non duplicates and duplicate apps to identify the rows we need to remove.\\\n",
    "Then we can remove all other duplicate app rows that do not have the highest review count.\\\n",
    "So far we observe that the Play store app store is the only data set materially effected by duplicate entries.  The iOS app store only has two."
   ]
  },
  {
   "cell_type": "code",
   "execution_count": 6,
   "metadata": {
    "scrolled": true
   },
   "outputs": [
    {
     "name": "stdout",
     "output_type": "stream",
     "text": [
      "Number of duplicate Android apps: 1181\n",
      "Number of duplicate iOS apps: 0\n"
     ]
    }
   ],
   "source": [
    "duplicates = []\n",
    "non_dupes = []\n",
    "\n",
    "for row in android:\n",
    "    name = row[0]\n",
    "    if name in non_dupes:\n",
    "        duplicates.append(name)\n",
    "    else:\n",
    "        non_dupes.append(name)\n",
    "print('Number of duplicate Android apps:', len(duplicates) )\n",
    "\n",
    "ios_duplicates = []\n",
    "ios_non_dupes = []\n",
    "\n",
    "for row in ios:\n",
    "    name = row[0]\n",
    "    if name in ios_non_dupes:\n",
    "        ios_duplicates.append(name)\n",
    "    else:\n",
    "        ios_non_dupes.append(name)\n",
    "print('Number of duplicate iOS apps:', len(ios_duplicates) )\n",
    "\n"
   ]
  },
  {
   "cell_type": "markdown",
   "metadata": {},
   "source": [
    "In the code below, I created a list to keep track of all apps that already have been appended to the `android_clean = []` into `already_added = []`.\\\n",
    "Without the seperate list `already_added = []` , the condition we use to append apps `if reviews_max[name]==n_reviews` would continue to produce duplicate values.\\\n",
    "This is because some duplicate apps have values with the same max review count"
   ]
  },
  {
   "cell_type": "code",
   "execution_count": 7,
   "metadata": {},
   "outputs": [
    {
     "name": "stdout",
     "output_type": "stream",
     "text": [
      "Number of reviews: 9659\n",
      "9659\n"
     ]
    }
   ],
   "source": [
    "reviews_max = {}\n",
    "for rows in android:\n",
    "    name = rows[0]\n",
    "    n_reviews = float(rows[3])\n",
    "    if name not in reviews_max:\n",
    "        reviews_max[name] = n_reviews\n",
    "    if name in reviews_max and reviews_max[name] < n_reviews:\n",
    "        reviews_max[name] = n_reviews\n",
    "print(\"Number of reviews:\",len(reviews_max))\n",
    "android_clean = []\n",
    "already_added = []\n",
    "for row in android:\n",
    "    name = row[0]\n",
    "    n_reviews = float(row[3])\n",
    "    if reviews_max[name]==n_reviews and name not in already_added:\n",
    "        android_clean.append(row)\n",
    "        already_added.append(name)\n",
    "\n",
    "    \n",
    "print(len(android_clean))\n",
    "    "
   ]
  },
  {
   "cell_type": "markdown",
   "metadata": {},
   "source": [
    "Now we have cleaned the data for duplicates, we need to remove any non-English apps.  We can use the order number associated with each character's ASCII output.  All english characters are all in the range of 0-127.  Therefore we can loop through each character for a string using the function:\\\n",
    "`ord()`\\\n",
    "Using a defined function, we can take in a string and return `False` if any chracter in the string that doesn't belong to the set of common English chracters, otherwise returning `True`\\\n",
    "If the app name has more than **3** non english characters, the function will return `False`"
   ]
  },
  {
   "cell_type": "code",
   "execution_count": 8,
   "metadata": {},
   "outputs": [
    {
     "data": {
      "text/plain": [
       "False"
      ]
     },
     "execution_count": 8,
     "metadata": {},
     "output_type": "execute_result"
    }
   ],
   "source": [
    "def english_checker(string):\n",
    "    char_count = 0\n",
    "    for character in string:\n",
    "        order = ord(character)\n",
    "        if order > 127:\n",
    "            char_count += 1\n",
    "            if char_count > 3:\n",
    "                return False\n",
    "    return True\n",
    "    \n",
    "\n",
    "english_checker('爱奇艺艺yyy')"
   ]
  },
  {
   "cell_type": "markdown",
   "metadata": {},
   "source": [
    "Create another list to parse out any non english apps for both data sets using the function we created."
   ]
  },
  {
   "cell_type": "code",
   "execution_count": 9,
   "metadata": {},
   "outputs": [
    {
     "name": "stdout",
     "output_type": "stream",
     "text": [
      "Android data set[English]: 9614\n",
      "iOS data set[English]: 6183\n"
     ]
    }
   ],
   "source": [
    "english_android=[]\n",
    "english_ios=[]\n",
    "for row in android_clean:\n",
    "    name = row[0]\n",
    "    if english_checker(name) is True:\n",
    "        english_android.append(row)\n",
    "\n",
    "for row in ios:\n",
    "    name = row[1]\n",
    "    if english_checker(name) is True:\n",
    "        english_ios.append(row)\n",
    "        \n",
    "print(\"Android data set[English]:\",len(english_android))\n",
    "print(\"iOS data set[English]:\", len(english_ios))\n",
    "\n",
    "\n",
    "\n"
   ]
  },
  {
   "cell_type": "code",
   "execution_count": 10,
   "metadata": {},
   "outputs": [
    {
     "name": "stdout",
     "output_type": "stream",
     "text": [
      "Android data set[Free]: 8863\n",
      "iOS data set[Free]: 3222\n"
     ]
    }
   ],
   "source": [
    "free_android=[]\n",
    "free_ios=[]\n",
    "for row in english_android:\n",
    "    price = row[6]\n",
    "    if price == \"Free\":\n",
    "        free_android.append(row)\n",
    "for row in english_ios:\n",
    "    price = float(row [4])\n",
    "    if price == 0.0:\n",
    "        free_ios.append(row)\n",
    "print(\"Android data set[Free]:\",len(free_android))\n",
    "print(\"iOS data set[Free]:\", len(free_ios))"
   ]
  },
  {
   "cell_type": "markdown",
   "metadata": {},
   "source": [
    "The goal in this analysis is to determine which apps attract the largest number of users.\n",
    "The validation strategy for the app idea goes as follows:\n",
    "1. Build a minimal Android version of the app, and add it to Google Play.\n",
    "2. If the app has a good response from users, we develop it further.\n",
    "3. If the app is profitable after six months, we build an iOS version of the app and add it to the App Store.\n",
    "\n",
    "The the goal is to release the app on Google play and eventually the App Store, therefore we need an analysis of successful app profiles on both platforms."
   ]
  },
  {
   "cell_type": "code",
   "execution_count": 11,
   "metadata": {},
   "outputs": [
    {
     "name": "stdout",
     "output_type": "stream",
     "text": [
      "0 App\n",
      "1 Category\n",
      "2 Rating\n",
      "3 Reviews\n",
      "4 Size\n",
      "5 Installs\n",
      "6 Type\n",
      "7 Price\n",
      "8 Content Rating\n",
      "9 Genres\n",
      "10 Last Updated\n",
      "11 Current Ver\n",
      "12 Android Ver\n",
      "None\n",
      "0 id\n",
      "1 track_name\n",
      "2 size_bytes\n",
      "3 currency\n",
      "4 price\n",
      "5 rating_count_tot\n",
      "6 rating_count_ver\n",
      "7 user_rating\n",
      "8 user_rating_ver\n",
      "9 ver\n",
      "10 cont_rating\n",
      "11 prime_genre\n",
      "12 sup_devices.num\n",
      "13 ipadSc_urls.num\n",
      "14 lang.num\n",
      "15 vpp_lic\n",
      "None\n"
     ]
    }
   ],
   "source": [
    "def android_head(android_header):\n",
    "    x=0\n",
    "    for i in android_header:\n",
    "        print(x,i)\n",
    "        x = x+1\n",
    "        if x==len(ios_header):\n",
    "            break\n",
    "def ios_head(ios_header):\n",
    "    x=0\n",
    "    for i in ios_header:\n",
    "        print(x,i)\n",
    "        x = x+1\n",
    "print(android_head(android_header))\n",
    "\n",
    "print(ios_head(ios_header))"
   ]
  },
  {
   "cell_type": "markdown",
   "metadata": {},
   "source": [
    "Columns we could use to generate frequency tables in android_\\\n",
    "**0 App**\n",
    "**1 Category**\n",
    "**2 Rating**\n",
    "3 Reviews\n",
    "4 Size\n",
    "**5 Installs**\n",
    "**6 Type**\n",
    "7 Price\n",
    "8 Content Rating\n",
    "**9 Genres**\n",
    "10 Last Updated\n",
    "11 Current Ver\n",
    "12 Android Ver.\\\n",
    "***\n",
    "Columns for ios_\\\n",
    "**0 id**\n",
    "**1 track_name**\n",
    "2 size_bytes\n",
    "3 currency\n",
    "4 price\n",
    "**5 rating_count_tot**\n",
    "6 rating_count_ver\n",
    "**7 user_rating**\n",
    "8 user_rating_ver\n",
    "9 ver\n",
    "10 cont_rating\n",
    "**11 prime_genre**\n",
    "12 sup_devices.num\n",
    "13 ipadSc_urls.num\n",
    "14 lang.num\n",
    "15 vpp_lic\n"
   ]
  },
  {
   "cell_type": "code",
   "execution_count": 12,
   "metadata": {},
   "outputs": [
    {
     "name": "stdout",
     "output_type": "stream",
     "text": [
      "prime_genre column \n",
      "\n",
      "Games : 58.163\n",
      "Entertainment : 7.883\n",
      "Photo & Video : 4.966\n",
      "Education : 3.662\n",
      "Social Networking : 3.29\n",
      "Shopping : 2.607\n",
      "Utilities : 2.514\n",
      "Sports : 2.142\n",
      "Music : 2.048\n",
      "Health & Fitness : 2.017\n",
      "Productivity : 1.738\n",
      "Lifestyle : 1.583\n",
      "News : 1.335\n",
      "Travel : 1.241\n",
      "Finance : 1.117\n",
      "Weather : 0.869\n",
      "Food & Drink : 0.807\n",
      "Reference : 0.559\n",
      "Business : 0.528\n",
      "Book : 0.435\n",
      "Navigation : 0.186\n",
      "Medical : 0.186\n",
      "Catalogs : 0.124\n",
      "None \n",
      "\n"
     ]
    }
   ],
   "source": [
    "def freq_table(dataset, index):\n",
    "    freq_column = {}\n",
    "    for row in dataset:\n",
    "        i = row[index]\n",
    "        if i not in freq_column:\n",
    "            freq_column[i]=1\n",
    "        else:\n",
    "            freq_column[i]+=1\n",
    "    for key in freq_column:\n",
    "        n = freq_column[key]/len(dataset)\n",
    "        perc = round(n*100,3)\n",
    "        freq_column[key]=perc        \n",
    "    return freq_column\n",
    "\n",
    "def display_table(dataset, index):\n",
    "    table = freq_table(dataset, index)\n",
    "    table_display = []\n",
    "    for key in table:\n",
    "        key_val_as_tuple = (table[key], key)\n",
    "        table_display.append(key_val_as_tuple)\n",
    "\n",
    "    table_sorted = sorted(table_display, reverse = True)\n",
    "    for entry in table_sorted:\n",
    "        print(entry[1], ':', entry[0])\n",
    "\n",
    "# print(display_table(free_android,1),'\\n')\n",
    "\n",
    "# print(display_table(free_android,9),'\\n')        \n",
    "print('prime_genre column','\\n')\n",
    "print(display_table(free_ios,11),'\\n')\n",
    "\n",
    "\n",
    "\n",
    "    \n",
    "    "
   ]
  },
  {
   "cell_type": "markdown",
   "metadata": {},
   "source": [
    "What is the most common genre? What is the runner-up?\n",
    "1. Games : 58.163\n",
    "2. Entertainment : 7.883\n",
    "3. Photo & Video : 4.966\n",
    "\n",
    "What other patterns do you see?\n",
    "- I notice the **top 3** apps make up 70% share of all the apps in the App store.\n",
    "\n",
    "What is the general impression — are most of the apps designed for practical purposes (education, shopping, utilities, productivity, lifestyle) or more for entertainment (games, photo and video, social networking, sports, music)?\n",
    "- There is a material proportion of apps under the Gaming genre and entertainment.\n",
    "\n",
    "Can you recommend an app profile for the App Store market based on this frequency table alone? If there's a large number of apps for a particular genre, does that also imply that apps of that genre generally have a large number of users?\n",
    "- No we need to analyze the amount of downloads to get a better understanding of which are more popular. Also we need to look at the Android data set. \n"
   ]
  },
  {
   "cell_type": "code",
   "execution_count": 13,
   "metadata": {},
   "outputs": [
    {
     "name": "stdout",
     "output_type": "stream",
     "text": [
      "Category column \n",
      "\n",
      "FAMILY : 18.899\n",
      "GAME : 9.726\n",
      "TOOLS : 8.462\n",
      "BUSINESS : 4.592\n",
      "LIFESTYLE : 3.904\n",
      "PRODUCTIVITY : 3.893\n",
      "FINANCE : 3.701\n",
      "MEDICAL : 3.532\n",
      "SPORTS : 3.396\n",
      "PERSONALIZATION : 3.317\n",
      "COMMUNICATION : 3.238\n",
      "HEALTH_AND_FITNESS : 3.08\n",
      "PHOTOGRAPHY : 2.945\n",
      "NEWS_AND_MAGAZINES : 2.798\n",
      "SOCIAL : 2.663\n",
      "TRAVEL_AND_LOCAL : 2.336\n",
      "SHOPPING : 2.245\n",
      "BOOKS_AND_REFERENCE : 2.144\n",
      "DATING : 1.862\n",
      "VIDEO_PLAYERS : 1.794\n",
      "MAPS_AND_NAVIGATION : 1.399\n",
      "FOOD_AND_DRINK : 1.241\n",
      "EDUCATION : 1.162\n",
      "ENTERTAINMENT : 0.959\n",
      "LIBRARIES_AND_DEMO : 0.936\n",
      "AUTO_AND_VEHICLES : 0.925\n",
      "HOUSE_AND_HOME : 0.824\n",
      "WEATHER : 0.801\n",
      "EVENTS : 0.711\n",
      "PARENTING : 0.654\n",
      "ART_AND_DESIGN : 0.643\n",
      "COMICS : 0.621\n",
      "BEAUTY : 0.598\n",
      "None \n",
      "\n",
      "Genre column \n",
      "\n",
      "Tools : 8.451\n",
      "Entertainment : 6.07\n",
      "Education : 5.348\n",
      "Business : 4.592\n",
      "Productivity : 3.893\n",
      "Lifestyle : 3.893\n",
      "Finance : 3.701\n",
      "Medical : 3.532\n",
      "Sports : 3.464\n",
      "Personalization : 3.317\n",
      "Communication : 3.238\n",
      "Action : 3.103\n",
      "Health & Fitness : 3.08\n",
      "Photography : 2.945\n",
      "News & Magazines : 2.798\n",
      "Social : 2.663\n",
      "Travel & Local : 2.324\n",
      "Shopping : 2.245\n",
      "Books & Reference : 2.144\n",
      "Simulation : 2.042\n",
      "Dating : 1.862\n",
      "Arcade : 1.85\n",
      "Video Players & Editors : 1.771\n",
      "Casual : 1.76\n",
      "Maps & Navigation : 1.399\n",
      "Food & Drink : 1.241\n",
      "Puzzle : 1.128\n",
      "Racing : 0.993\n",
      "Role Playing : 0.936\n",
      "Libraries & Demo : 0.936\n",
      "Auto & Vehicles : 0.925\n",
      "Strategy : 0.903\n",
      "House & Home : 0.824\n",
      "Weather : 0.801\n",
      "Events : 0.711\n",
      "Adventure : 0.677\n",
      "Comics : 0.609\n",
      "Beauty : 0.598\n",
      "Art & Design : 0.598\n",
      "Parenting : 0.496\n",
      "Card : 0.451\n",
      "Casino : 0.429\n",
      "Trivia : 0.417\n",
      "Educational;Education : 0.395\n",
      "Board : 0.384\n",
      "Educational : 0.372\n",
      "Education;Education : 0.338\n",
      "Word : 0.26\n",
      "Casual;Pretend Play : 0.237\n",
      "Music : 0.203\n",
      "Racing;Action & Adventure : 0.169\n",
      "Puzzle;Brain Games : 0.169\n",
      "Entertainment;Music & Video : 0.169\n",
      "Casual;Brain Games : 0.135\n",
      "Casual;Action & Adventure : 0.135\n",
      "Arcade;Action & Adventure : 0.124\n",
      "Action;Action & Adventure : 0.102\n",
      "Educational;Pretend Play : 0.09\n",
      "Simulation;Action & Adventure : 0.079\n",
      "Parenting;Education : 0.079\n",
      "Entertainment;Brain Games : 0.079\n",
      "Board;Brain Games : 0.079\n",
      "Parenting;Music & Video : 0.068\n",
      "Educational;Brain Games : 0.068\n",
      "Casual;Creativity : 0.068\n",
      "Art & Design;Creativity : 0.068\n",
      "Education;Pretend Play : 0.056\n",
      "Role Playing;Pretend Play : 0.045\n",
      "Education;Creativity : 0.045\n",
      "Role Playing;Action & Adventure : 0.034\n",
      "Puzzle;Action & Adventure : 0.034\n",
      "Entertainment;Creativity : 0.034\n",
      "Entertainment;Action & Adventure : 0.034\n",
      "Educational;Creativity : 0.034\n",
      "Educational;Action & Adventure : 0.034\n",
      "Education;Music & Video : 0.034\n",
      "Education;Brain Games : 0.034\n",
      "Education;Action & Adventure : 0.034\n",
      "Adventure;Action & Adventure : 0.034\n",
      "Video Players & Editors;Music & Video : 0.023\n",
      "Sports;Action & Adventure : 0.023\n",
      "Simulation;Pretend Play : 0.023\n",
      "Puzzle;Creativity : 0.023\n",
      "Music;Music & Video : 0.023\n",
      "Entertainment;Pretend Play : 0.023\n",
      "Casual;Education : 0.023\n",
      "Board;Action & Adventure : 0.023\n",
      "Video Players & Editors;Creativity : 0.011\n",
      "Trivia;Education : 0.011\n",
      "Travel & Local;Action & Adventure : 0.011\n",
      "Tools;Education : 0.011\n",
      "Strategy;Education : 0.011\n",
      "Strategy;Creativity : 0.011\n",
      "Strategy;Action & Adventure : 0.011\n",
      "Simulation;Education : 0.011\n",
      "Role Playing;Brain Games : 0.011\n",
      "Racing;Pretend Play : 0.011\n",
      "Puzzle;Education : 0.011\n",
      "Parenting;Brain Games : 0.011\n",
      "Music & Audio;Music & Video : 0.011\n",
      "Lifestyle;Pretend Play : 0.011\n",
      "Lifestyle;Education : 0.011\n",
      "Health & Fitness;Education : 0.011\n",
      "Health & Fitness;Action & Adventure : 0.011\n",
      "Entertainment;Education : 0.011\n",
      "Communication;Creativity : 0.011\n",
      "Comics;Creativity : 0.011\n",
      "Casual;Music & Video : 0.011\n",
      "Card;Action & Adventure : 0.011\n",
      "Books & Reference;Education : 0.011\n",
      "Art & Design;Pretend Play : 0.011\n",
      "Art & Design;Action & Adventure : 0.011\n",
      "Arcade;Pretend Play : 0.011\n",
      "Adventure;Education : 0.011\n",
      "None \n",
      "\n"
     ]
    }
   ],
   "source": [
    "print('Category column \\n')\n",
    "print(display_table(free_android,1),'\\n')\n",
    "\n",
    "print('Genre column \\n')\n",
    "print(display_table(free_android,9),'\\n') "
   ]
  },
  {
   "cell_type": "markdown",
   "metadata": {},
   "source": [
    "What are the most common genres?\n",
    "-  Most common genres are Family, Game, and Tools looking at the Category column.  The Tools, Entertainment, and Education are the top 3 most popular genres looking at the Genre column.\n",
    "\n",
    "What other patterns do you see?\n",
    "- The genre column of the Google play store has a larger range of genres.\n",
    "Compare the patterns you see for the Google Play market with those you saw for the App Store market.\n",
    "Can you recommend an app profile based on what you found so far? Do the frequency tables you generated reveal the most frequent app genres or what genres have the most users?\n",
    "- Entertainment, Games, and Tools appear to the most common genres in both platforms.  The App store for Apple is heavily skewed towards Entertainment apps(games).  We need to still look at the number of downloads for the data sets."
   ]
  },
  {
   "cell_type": "code",
   "execution_count": 14,
   "metadata": {},
   "outputs": [
    {
     "name": "stdout",
     "output_type": "stream",
     "text": [
      "[(86090.0, 'Navigation'), (74942.0, 'Reference'), (71548.0, 'Social Networking'), (57327.0, 'Music'), (52280.0, 'Weather'), (39758.0, 'Book'), (33334.0, 'Food & Drink'), (31468.0, 'Finance'), (28442.0, 'Photo & Video'), (28244.0, 'Travel'), (26920.0, 'Shopping'), (23298.0, 'Health & Fitness'), (23009.0, 'Sports'), (22789.0, 'Games'), (21248.0, 'News'), (21028.0, 'Productivity'), (18684.0, 'Utilities'), (16486.0, 'Lifestyle'), (14030.0, 'Entertainment'), (7491.0, 'Business'), (7004.0, 'Education'), (4004.0, 'Catalogs'), (612.0, 'Medical')]\n"
     ]
    }
   ],
   "source": [
    "#Change the previous Freq_table function to produce absolute \n",
    "#numbers instead of percentages\n",
    "\n",
    "def freq_table2(dataset, index):\n",
    "    freq_column = {}\n",
    "    for row in dataset:\n",
    "        i = row[index]\n",
    "        if i not in freq_column:\n",
    "            freq_column[i]=1\n",
    "        else:\n",
    "            freq_column[i]+=1      \n",
    "    return freq_column\n",
    "\n",
    "#Creating a dictionary to store the avgerage number of rating\n",
    "#per genre\n",
    "\n",
    "avg_user_dict={}\n",
    "user_rating_freq = freq_table(free_ios,11)\n",
    "for genre in user_rating_freq:\n",
    "    total = 0\n",
    "    len_genre = 0\n",
    "\n",
    "    for row in free_ios:\n",
    "        genre_app = row[11]\n",
    "        if genre == genre_app:\n",
    "            num_ratings = float(row[5])\n",
    "            total += num_ratings\n",
    "            len_genre += 1\n",
    "    \n",
    "    avg_user_rating = round(total/len_genre,0)\n",
    "    avg_user_dict[genre]=avg_user_rating\n",
    "    \n",
    "#Creating a list of tuples to sort the avgerage number of rating\n",
    "#per genre    \n",
    "\n",
    "table_display = []\n",
    "for key in avg_user_dict:\n",
    "    key_val_as_tuple = (avg_user_dict[key], key)\n",
    "    table_display.append(key_val_as_tuple)\n",
    "\n",
    "table_sorted = sorted(table_display, reverse = True)\n",
    "print(table_sorted)\n",
    "    \n",
    "\n",
    "    \n",
    "# ios_head(ios_header)"
   ]
  },
  {
   "cell_type": "markdown",
   "metadata": {},
   "source": [
    "From looking at the average number of user ratings per genre as a proxy for Installs,  we can see that Navigation, Reference, and Social Networking apps have the highest user rating counts.\\\n",
    "The Navigation app category in the App store appears to have a low number apps in the App store but the highest use.  \n"
   ]
  },
  {
   "cell_type": "code",
   "execution_count": 15,
   "metadata": {},
   "outputs": [
    {
     "name": "stdout",
     "output_type": "stream",
     "text": [
      "Waze - GPS Navigation, Maps & Real-time Traffic : 345046\n",
      "Google Maps - Navigation & Transit : 154911\n",
      "Geocaching® : 12811\n",
      "CoPilot GPS – Car Navigation & Offline Maps : 3582\n",
      "ImmobilienScout24: Real Estate Search in Germany : 187\n",
      "Railway Route Search : 5\n"
     ]
    }
   ],
   "source": [
    "for row in free_ios:\n",
    "    if row[11]=='Navigation':\n",
    "        print(row[1],':',row[5])"
   ]
  },
  {
   "cell_type": "markdown",
   "metadata": {},
   "source": [
    "Waze and Google Maps take up nearly 500,000 reviews. Making an app for Navigation would require use of Navigation technologies such as GPS and satellites.  This would be out of our scope for profitable app idea."
   ]
  },
  {
   "cell_type": "code",
   "execution_count": 16,
   "metadata": {
    "scrolled": true
   },
   "outputs": [
    {
     "name": "stdout",
     "output_type": "stream",
     "text": [
      "Facebook : 2974676\n",
      "Pinterest : 1061624\n",
      "Skype for iPhone : 373519\n",
      "Messenger : 351466\n",
      "Tumblr : 334293\n",
      "WhatsApp Messenger : 287589\n",
      "Kik : 260965\n",
      "ooVoo – Free Video Call, Text and Voice : 177501\n",
      "TextNow - Unlimited Text + Calls : 164963\n",
      "Viber Messenger – Text & Call : 164249\n",
      "Followers - Social Analytics For Instagram : 112778\n",
      "MeetMe - Chat and Meet New People : 97072\n",
      "We Heart It - Fashion, wallpapers, quotes, tattoos : 90414\n",
      "InsTrack for Instagram - Analytics Plus More : 85535\n",
      "Tango - Free Video Call, Voice and Chat : 75412\n"
     ]
    }
   ],
   "source": [
    "t=0\n",
    "for row in free_ios:\n",
    "    if row[11]=='Social Networking':\n",
    "        print(row[1],':',row[5])\n",
    "        t=t+1   \n",
    "        if t==15:\n",
    "            break\n",
    "        "
   ]
  },
  {
   "cell_type": "markdown",
   "metadata": {},
   "source": [
    "Also in Reference genre, the app share is heavily dominated by the Bible app and dictionaries.\n",
    "## App Store Profile Strategy:\n",
    "- Given the App store is saturated with games and entertainment apps,  we could design a social networking app.  To reduce overhead and costs, an analytics app that can keep track of Instagram, Tiktok metrics on on User Interface.\\\n",
    "\n",
    "**Followers - Social Analytics For Instagram : 112778\\\n",
    "InsTrack for Instagram - Analytics Plus More : 85535**\n",
    "\n",
    "- App would be similar to the above Instragram metric apps, but would extend to other social media apps within our program.  I don't see any app that resembles a Dashboard for social media analytics, so this could be profitable idea."
   ]
  },
  {
   "cell_type": "code",
   "execution_count": 17,
   "metadata": {},
   "outputs": [
    {
     "name": "stdout",
     "output_type": "stream",
     "text": [
      "(38456119.0, 'COMMUNICATION')\n",
      "(24727872.0, 'VIDEO_PLAYERS')\n",
      "(23253652.0, 'SOCIAL')\n",
      "(17840110.0, 'PHOTOGRAPHY')\n",
      "(16787331.0, 'PRODUCTIVITY')\n",
      "(15588016.0, 'GAME')\n",
      "(13984078.0, 'TRAVEL_AND_LOCAL')\n",
      "(11640706.0, 'ENTERTAINMENT')\n",
      "(10801391.0, 'TOOLS')\n",
      "(9549178.0, 'NEWS_AND_MAGAZINES')\n",
      "(8767812.0, 'BOOKS_AND_REFERENCE')\n",
      "(7036877.0, 'SHOPPING')\n",
      "(5201483.0, 'PERSONALIZATION')\n",
      "(5074486.0, 'WEATHER')\n",
      "(4188822.0, 'HEALTH_AND_FITNESS')\n",
      "(4056942.0, 'MAPS_AND_NAVIGATION')\n",
      "(3697848.0, 'FAMILY')\n",
      "(3638640.0, 'SPORTS')\n",
      "(1986335.0, 'ART_AND_DESIGN')\n",
      "(1924898.0, 'FOOD_AND_DRINK')\n",
      "(1833495.0, 'EDUCATION')\n",
      "(1712290.0, 'BUSINESS')\n",
      "(1437816.0, 'LIFESTYLE')\n",
      "(1387692.0, 'FINANCE')\n",
      "(1331541.0, 'HOUSE_AND_HOME')\n",
      "(854029.0, 'DATING')\n",
      "(817657.0, 'COMICS')\n",
      "(647318.0, 'AUTO_AND_VEHICLES')\n",
      "(638504.0, 'LIBRARIES_AND_DEMO')\n",
      "(542604.0, 'PARENTING')\n",
      "(513152.0, 'BEAUTY')\n",
      "(253542.0, 'EVENTS')\n",
      "(120551.0, 'MEDICAL')\n"
     ]
    }
   ],
   "source": [
    "avg_user_and={}  # Dictionary for average number of installs\n",
    "\n",
    "# Category_dict is the dictionary used when we iterate over the \n",
    "# distinct categories\n",
    "# example of a \"nested loop\"\n",
    "category_dict = freq_table(free_android,1)  \n",
    "for category in category_dict:\n",
    "    total = 0\n",
    "    len_category = 0\n",
    "    for row in free_android:\n",
    "        category_app = row[1]\n",
    "        installs = row[5]\n",
    "        if category == category_app:\n",
    "            installs = installs.replace('+','')   ## to replace \"+\"and \",\" with no character to convert to float\n",
    "            installs = float(installs.replace(',',''))\n",
    "            total += installs\n",
    "            len_category += 1\n",
    "    \n",
    "    avg_installs = round(total/len_category,0)\n",
    "    avg_user_and[category]=avg_installs\n",
    "\n",
    "# using our now filled dictionary with average installs for the play store\n",
    "# we will create a list of tuples to be able to quickly sort the dict\n",
    "\n",
    "table_display_android = []\n",
    "for key in category_dict:\n",
    "    key_val_as_tuple = (avg_user_and[key], key)\n",
    "    table_display_android.append(key_val_as_tuple)\n",
    "\n",
    "table_sorted = sorted(table_display_android, reverse = True)\n",
    "for i in table_sorted:\n",
    "    print(i)"
   ]
  },
  {
   "cell_type": "markdown",
   "metadata": {},
   "source": [
    "From the data above, we can see the app store has top install counts for Communication, Video_Players, and Social.  We picked an app idea that was apart of Social Networking genre in App store.  We can see that this idea still could be a profitable one since Social category has large user base in the Google Play store."
   ]
  }
 ],
 "metadata": {
  "kernelspec": {
   "display_name": "Python 3",
   "language": "python",
   "name": "python3"
  },
  "language_info": {
   "codemirror_mode": {
    "name": "ipython",
    "version": 3
   },
   "file_extension": ".py",
   "mimetype": "text/x-python",
   "name": "python",
   "nbconvert_exporter": "python",
   "pygments_lexer": "ipython3",
   "version": "3.8.2"
  }
 },
 "nbformat": 4,
 "nbformat_minor": 2
}
